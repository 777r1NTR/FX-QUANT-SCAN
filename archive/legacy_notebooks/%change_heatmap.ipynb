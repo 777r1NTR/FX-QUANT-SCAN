{
 "cells": [
  {
   "cell_type": "code",
   "execution_count": 2,
   "metadata": {},
   "outputs": [
    {
     "name": "stderr",
     "output_type": "stream",
     "text": [
      "\n",
      "1 Failed download:\n",
      "['SGDCAD=X']: HTTPError('HTTP Error 404: ')\n"
     ]
    },
    {
     "name": "stdout",
     "output_type": "stream",
     "text": [
      "[📊] FX % Change Heatmap for 2025-07-04\n",
      "      USD   CAD   EUR   GBP   JPY   AUD   NZD   CHF   SGD   NOK\n",
      "USD   NaN   NaN -0.19  0.00 -0.31  0.24  0.22   NaN -0.07  0.15\n",
      "CAD -0.11   NaN -0.30 -0.13 -0.40  0.17  0.10   NaN -0.22  0.03\n",
      "EUR  0.19  0.31   NaN  0.18   NaN   NaN  0.40   NaN  0.13   NaN\n",
      "GBP  0.00   NaN -0.18   NaN -0.31   NaN   NaN   NaN   NaN  0.08\n",
      "JPY  0.30  0.43  0.13  0.32   NaN  0.61  0.52  0.26   NaN  0.94\n",
      "AUD -0.24   NaN -0.44 -0.22   NaN   NaN   NaN   NaN   NaN -0.18\n",
      "NZD -0.22   NaN -0.53 -0.23 -0.53  0.09   NaN   NaN -0.28   NaN\n",
      "CHF   NaN  0.36  0.03  0.20   NaN  0.50  0.43   NaN  0.48  0.32\n",
      "SGD  0.07   NaN -0.07  0.11 -0.09  0.40  0.33  0.14   NaN  0.20\n",
      "NOK   NaN   NaN -0.31 -0.10 -0.34   NaN   NaN  0.06   NaN   NaN\n",
      "[💾] Exported FX heatmap to: reports/fx_major_heatmap.xlsx\n"
     ]
    }
   ],
   "source": [
    "import yfinance as yf\n",
    "import pandas as pd\n",
    "import numpy as np\n",
    "import os\n",
    "from datetime import datetime\n",
    "\n",
    "# === CONFIG ===\n",
    "EXPORT_TO_EXCEL = True\n",
    "OUTPUT_FILE = \"reports/fx_major_heatmap.xlsx\"\n",
    "CURRENCY_LIST = ['USD','CAD', 'EUR', 'GBP', 'JPY', 'AUD', 'NZD', 'CHF','SGD','NOK']\n",
    "TODAY_DATE = datetime.utcnow().strftime('%Y-%m-%d')\n",
    "\n",
    "# === Initialize matrix ===\n",
    "matrix = pd.DataFrame(index=CURRENCY_LIST, columns=CURRENCY_LIST, dtype=float)\n",
    "\n",
    "def get_daily_pct_change(ticker):\n",
    "    try:\n",
    "        data = yf.download(ticker, period=\"2d\", interval=\"1d\", progress=False)\n",
    "        if len(data) < 2:\n",
    "            return None\n",
    "        open_val = data['Open'].iloc[-1].item()\n",
    "        close_val = data['Close'].iloc[-1].item()\n",
    "        return (close_val - open_val) / open_val * 100\n",
    "    except Exception as e:\n",
    "        print(f\"[⚠️] Error fetching {ticker}: {e}\")\n",
    "        return None\n",
    "\n",
    "# === Build matrix ===\n",
    "for base in CURRENCY_LIST:\n",
    "    for quote in CURRENCY_LIST:\n",
    "        if base == quote:\n",
    "            matrix.at[base, quote] = np.nan\n",
    "            continue\n",
    "        pair = f\"{base}{quote}=X\"\n",
    "        pct_change = get_daily_pct_change(pair)\n",
    "        if pct_change is not None:\n",
    "            matrix.at[base, quote] = round(pct_change, 2)\n",
    "\n",
    "# === Display matrix ===\n",
    "print(f\"[📊] FX % Change Heatmap for {TODAY_DATE}\")\n",
    "print(matrix)\n",
    "\n",
    "# === Export to Excel (optional) ===\n",
    "if EXPORT_TO_EXCEL:\n",
    "    os.makedirs(\"reports\", exist_ok=True)\n",
    "    with pd.ExcelWriter(OUTPUT_FILE, engine='xlsxwriter') as writer:\n",
    "        matrix.to_excel(writer, sheet_name='Heatmap')\n",
    "        workbook  = writer.book\n",
    "        worksheet = writer.sheets['Heatmap']\n",
    "        fmt = workbook.add_format({'num_format': '0.00', 'align': 'center'})\n",
    "\n",
    "        # Apply conditional formatting\n",
    "        worksheet.conditional_format('B2:I9', {\n",
    "            'type': '3_color_scale',\n",
    "            'min_color': \"#63BE7B\",   # green\n",
    "            'mid_color': \"#FFEB84\",   # yellow\n",
    "            'max_color': \"#F8696B\",   # red\n",
    "        })\n",
    "    print(f\"[💾] Exported FX heatmap to: {OUTPUT_FILE}\")\n"
   ]
  },
  {
   "cell_type": "code",
   "execution_count": null,
   "metadata": {},
   "outputs": [],
   "source": []
  },
  {
   "cell_type": "code",
   "execution_count": null,
   "metadata": {},
   "outputs": [],
   "source": []
  }
 ],
 "metadata": {
  "kernelspec": {
   "display_name": "Python 3",
   "language": "python",
   "name": "python3"
  },
  "language_info": {
   "codemirror_mode": {
    "name": "ipython",
    "version": 3
   },
   "file_extension": ".py",
   "mimetype": "text/x-python",
   "name": "python",
   "nbconvert_exporter": "python",
   "pygments_lexer": "ipython3",
   "version": "3.8.3"
  }
 },
 "nbformat": 4,
 "nbformat_minor": 4
}
