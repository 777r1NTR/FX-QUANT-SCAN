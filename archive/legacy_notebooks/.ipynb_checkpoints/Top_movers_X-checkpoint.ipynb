{
 "cells": [
  {
   "cell_type": "code",
   "execution_count": 4,
   "metadata": {},
   "outputs": [
    {
     "name": "stderr",
     "output_type": "stream",
     "text": [
      "[*********************100%***********************]  1 of 1 completed\n",
      "[*********************100%***********************]  1 of 1 completed\n",
      "[*********************100%***********************]  1 of 1 completed\n",
      "[*********************100%***********************]  1 of 1 completed\n",
      "[*********************100%***********************]  1 of 1 completed\n",
      "[*********************100%***********************]  1 of 1 completed\n",
      "[*********************100%***********************]  1 of 1 completed\n",
      "[*********************100%***********************]  1 of 1 completed\n",
      "[*********************100%***********************]  1 of 1 completed\n",
      "[*********************100%***********************]  1 of 1 completed\n",
      "[*********************100%***********************]  1 of 1 completed\n",
      "[*********************100%***********************]  1 of 1 completed\n",
      "[*********************100%***********************]  1 of 1 completed\n",
      "[*********************100%***********************]  1 of 1 completed\n",
      "[*********************100%***********************]  1 of 1 completed\n",
      "[*********************100%***********************]  1 of 1 completed\n",
      "[*********************100%***********************]  1 of 1 completed\n",
      "[*********************100%***********************]  1 of 1 completed\n",
      "[*********************100%***********************]  1 of 1 completed\n",
      "[*********************100%***********************]  1 of 1 completed\n",
      "[*********************100%***********************]  1 of 1 completed\n",
      "[*********************100%***********************]  1 of 1 completed\n",
      "[*********************100%***********************]  1 of 1 completed\n",
      "[*********************100%***********************]  1 of 1 completed\n",
      "[*********************100%***********************]  1 of 1 completed\n",
      "[*********************100%***********************]  1 of 1 completed\n",
      "[*********************100%***********************]  1 of 1 completed\n",
      "[*********************100%***********************]  1 of 1 completed\n",
      "[*********************100%***********************]  1 of 1 completed\n",
      "[*********************100%***********************]  1 of 1 completed"
     ]
    },
    {
     "name": "stdout",
     "output_type": "stream",
     "text": [
      "[💾] Extension alerts logged to: reports/extension_alert_log.csv\n",
      "[✅] Unusual Extension Movers:\n",
      "  Ticker  Today % Change  Avg % Change  Std Dev  Z-Score           Timestamp\n",
      "EURNOK=X            0.53           0.0     0.31     1.68 2025-06-11 14:31:07\n"
     ]
    },
    {
     "name": "stderr",
     "output_type": "stream",
     "text": [
      "\n"
     ]
    }
   ],
   "source": [
    "import yfinance as yf\n",
    "import pandas as pd\n",
    "import os\n",
    "\n",
    "\n",
    "# Parameters\n",
    "TICKER_LIST = [\n",
    "    'USDCAD=X', 'USDGBP=X', 'USDNOK=X', 'USDPLN=X', 'USDAUD=X', 'USDSGD=X',\n",
    "    'USDJPY=X', 'USDZAR=X', 'USDBRL=X', 'EURUSD=X', 'EURGBP=X', 'EURCHF=X',\n",
    "    'EURPLN=X', 'EURCZK=X', 'EURNZD=X', 'EURSEK=X', 'EURZAR=X', 'EURSGD=X',\n",
    "    'GBPNOK=X', 'GBPJPY=X', 'GBPAUD=X', 'GBPCAD=X', 'SEKNOK=X', 'SEKJPY=X',\n",
    "    'CHFNOK=X', 'CADNOK=X', 'AUDNZD=X', 'AUDJPY=X', 'AUDSEK=X', 'AUDCAD=X',\n",
    "    'NZDSGD=X', 'NZDCHF=X', 'NZDNOK=X', 'SGDJPY=X', 'SGDHKD=X', 'EURCAD=X',\n",
    "    'USDCHF=X', 'GBPCHF=X', 'EURNOK=X'\n",
    "] # Add more tickers\n",
    "lookback_days = 10\n",
    "std_threshold = 1.5  # Flag moves above 1.5x std deviation\n",
    "\n",
    "def get_unusual_movers(tickers, lookback_days, std_threshold):\n",
    "    unusual_movers = []\n",
    "\n",
    "    for ticker in tickers:\n",
    "        data = yf.download(ticker, period=f\"{lookback_days + 2}d\", interval='1d')\n",
    "        data['Pct Change'] = data['Close'].pct_change() * 100\n",
    "        \n",
    "        recent_changes = data['Pct Change'].iloc[-(lookback_days+1):-1]  # Exclude today\n",
    "        today_change = data['Pct Change'].iloc[-1]\n",
    "\n",
    "        avg = recent_changes.mean()\n",
    "        std = recent_changes.std()\n",
    "\n",
    "        if abs(today_change) > avg + std_threshold * std:\n",
    "            unusual_movers.append({\n",
    "                'Ticker': ticker,\n",
    "                'Today % Change': round(today_change, 2),\n",
    "                'Avg % Change': round(avg, 2),\n",
    "                'Std Dev': round(std, 2),\n",
    "                'Z-Score': round((today_change - avg)/std, 2)\n",
    "            })\n",
    "\n",
    "    return pd.DataFrame(unusual_movers)\n",
    "\n",
    "# Example: df_extensions = ... your current DataFrame of extension alerts\n",
    "# Run the screener\n",
    "df_extensions = get_unusual_movers(tickers, lookback_days, std_threshold)\n",
    "\n",
    "# Add current UTC timestamp\n",
    "df_extensions[\"Timestamp\"] = pd.Timestamp.utcnow().strftime(\"%Y-%m-%d %H:%M:%S\")\n",
    "\n",
    "# Ensure reports folder exists\n",
    "os.makedirs(\"reports\", exist_ok=True)\n",
    "\n",
    "# Write to log\n",
    "ext_log_file = \"reports/extension_alert_log.csv\"\n",
    "df_extensions.to_csv(ext_log_file, mode=\"a\", index=False, header=not os.path.exists(ext_log_file))\n",
    "\n",
    "print(f\"[💾] Extension alerts logged to: {ext_log_file}\")\n",
    "\n",
    "# Print the dataframe\n",
    "# Safe print the dataframe\n",
    "if df_extensions.empty:\n",
    "    print(\"[✅] No unusual extension movers found today.\")\n",
    "else:\n",
    "    print(\"[✅] Unusual Extension Movers:\")\n",
    "    print(df_extensions.sort_values(by='Z-Score', ascending=False).to_string(index=False))\n"
   ]
  },
  {
   "cell_type": "code",
   "execution_count": null,
   "metadata": {},
   "outputs": [],
   "source": []
  },
  {
   "cell_type": "code",
   "execution_count": null,
   "metadata": {
    "scrolled": false
   },
   "outputs": [],
   "source": []
  },
  {
   "cell_type": "code",
   "execution_count": null,
   "metadata": {},
   "outputs": [],
   "source": []
  }
 ],
 "metadata": {
  "kernelspec": {
   "display_name": "Python 3",
   "language": "python",
   "name": "python3"
  },
  "language_info": {
   "codemirror_mode": {
    "name": "ipython",
    "version": 3
   },
   "file_extension": ".py",
   "mimetype": "text/x-python",
   "name": "python",
   "nbconvert_exporter": "python",
   "pygments_lexer": "ipython3",
   "version": "3.8.3"
  }
 },
 "nbformat": 4,
 "nbformat_minor": 4
}
